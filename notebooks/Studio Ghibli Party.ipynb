{
 "cells": [
  {
   "cell_type": "code",
   "execution_count": 1,
   "metadata": {
    "collapsed": false
   },
   "outputs": [],
   "source": [
    "programmation = ['ARRIETTY, LE PETIT MONDE DES CHAPARDEURS',\n",
    " 'LA COLLINE AUX COQUELICOTS',\n",
    " 'LES CONTES DE TERREMER',\n",
    " 'LE CHÂTEAU AMBULANT',\n",
    " 'LE VENT SE LEVE',\n",
    " 'LE VOYAGE DE CHIHIRO',\n",
    " 'PONYO SUR LA FALAISE',\n",
    " 'PORCO ROSSO',\n",
    " 'PRINCESSE MONONOKE',\n",
    " 'LE ROYAUME DES CHATS',\n",
    " 'MES VOISINS LES YAMADA',\n",
    " 'MON VOISIN TOTORO.']"
   ]
  },
  {
   "cell_type": "code",
   "execution_count": 2,
   "metadata": {
    "collapsed": false
   },
   "outputs": [],
   "source": [
    "keywords = {'ARRIETTY, LE PETIT MONDE DES CHAPARDEURS': 'arrietty',\n",
    " 'LA COLLINE AUX COQUELICOTS': 'poppy',\n",
    " 'LE CHÂTEAU AMBULANT': 'howl',\n",
    " 'LE ROYAUME DES CHATS': 'cat returns',\n",
    " 'LE VENT SE LEVE': 'wind rises',\n",
    " 'LE VOYAGE DE CHIHIRO': 'chihiro',\n",
    " 'LES CONTES DE TERREMER': 'earthsea',\n",
    " 'MES VOISINS LES YAMADA': 'neighbors',\n",
    " 'MON VOISIN TOTORO.': 'totoro',\n",
    " 'PONYO SUR LA FALAISE': 'ponyo',\n",
    " 'PORCO ROSSO': 'porco rosso',\n",
    " 'PRINCESSE MONONOKE': 'mononoke'}"
   ]
  },
  {
   "cell_type": "code",
   "execution_count": 10,
   "metadata": {
    "collapsed": false
   },
   "outputs": [
    {
     "name": "stdout",
     "output_type": "stream",
     "text": [
      "ARRIETTY, LE PETIT MONDE DES CHAPARDEURS\n",
      "========================================\n",
      "[2591] The Secret World of Arrietty http://mangaki.fr/anime/2591\n",
      "[13456] The Secret World of Arrietty http://mangaki.fr/anime/13456\n",
      "\n",
      "LA COLLINE AUX COQUELICOTS\n",
      "==========================\n",
      "[8153] From Up on Poppy Hill http://mangaki.fr/anime/8153\n",
      "\n",
      "LES CONTES DE TERREMER\n",
      "======================\n",
      "[10167] Tales from Earthsea http://mangaki.fr/anime/10167\n",
      "[2461] Tales from Earthsea http://mangaki.fr/anime/2461\n",
      "\n",
      "LE CHÂTEAU AMBULANT\n",
      "===================\n",
      "[53] Howl no Ugoku Shiro http://mangaki.fr/anime/53\n",
      "[13239] Howl's Moving Castle http://mangaki.fr/anime/13239\n",
      "[13489] Howl's Moving Castle http://mangaki.fr/anime/13489\n",
      "\n",
      "LE VENT SE LEVE\n",
      "===============\n",
      "[958] The Wind Rises http://mangaki.fr/anime/958\n",
      "\n",
      "LE VOYAGE DE CHIHIRO\n",
      "====================\n",
      "[30] Sen to Chihiro no Kamikakushi http://mangaki.fr/anime/30\n",
      "\n",
      "PONYO SUR LA FALAISE\n",
      "====================\n",
      "[1563] Ponyo http://mangaki.fr/anime/1563\n",
      "\n",
      "PORCO ROSSO\n",
      "===========\n",
      "[410] Porco Rosso http://mangaki.fr/anime/410\n",
      "\n",
      "PRINCESSE MONONOKE\n",
      "==================\n",
      "[13510] Princess Mononoke http://mangaki.fr/anime/13510\n",
      "[60] Mononoke Hime http://mangaki.fr/anime/60\n",
      "\n",
      "LE ROYAUME DES CHATS\n",
      "====================\n",
      "[3315] The Cat Returns http://mangaki.fr/anime/3315\n",
      "\n",
      "MES VOISINS LES YAMADA\n",
      "======================\n",
      "[13448] My Neighbors the Yamadas http://mangaki.fr/anime/13448\n",
      "[3177] My Neighbors the Yamadas http://mangaki.fr/anime/3177\n",
      "\n",
      "MON VOISIN TOTORO.\n",
      "==================\n",
      "[106] Tonari no Totoro http://mangaki.fr/anime/106\n",
      "[13546] My Neighbor Totoro http://mangaki.fr/anime/13546\n",
      "\n",
      "{'PORCO ROSSO': 'porco rosso', 'LE VENT SE LEVE': 'wind rises', 'LES CONTES DE TERREMER': 'earthsea', 'PONYO SUR LA FALAISE': 'ponyo', 'MON VOISIN TOTORO.': 'totoro', 'LA COLLINE AUX COQUELICOTS': 'poppy', 'LE VOYAGE DE CHIHIRO': 'chihiro', 'LE ROYAUME DES CHATS': 'cat returns', 'PRINCESSE MONONOKE': 'mononoke', 'MES VOISINS LES YAMADA': 'neighbors', 'LE CHÂTEAU AMBULANT': 'howl', 'ARRIETTY, LE PETIT MONDE DES CHAPARDEURS': 'arrietty'}\n"
     ]
    }
   ],
   "source": [
    "no_ghibli = [1252, 8175, 8177, 13511]\n",
    "for film in programmation:\n",
    "    keyword = keywords[film] if film in keywords else film.lower()\n",
    "    while keyword:\n",
    "        bundle = Anime.objects.filter(title__icontains=keyword)\n",
    "        if not bundle.count():\n",
    "            keyword = input('Didn\\'t found %s. New keyword? ' % keyword)\n",
    "            continue\n",
    "        keywords[film] = keyword\n",
    "        print(film)\n",
    "        print('=' * len(film))\n",
    "        # print('Key:', keyword)\n",
    "        for film in bundle:\n",
    "            if film.id not in no_ghibli:\n",
    "                print(film, 'http://mangaki.fr/anime/%d' % film.id)\n",
    "        print()\n",
    "        break\n",
    "# print(keywords)"
   ]
  },
  {
   "cell_type": "code",
   "execution_count": null,
   "metadata": {
    "collapsed": true
   },
   "outputs": [],
   "source": [
    "@ "
   ]
  },
  {
   "cell_type": "code",
   "execution_count": null,
   "metadata": {
    "collapsed": true
   },
   "outputs": [],
   "source": []
  },
  {
   "cell_type": "code",
   "execution_count": null,
   "metadata": {
    "collapsed": true
   },
   "outputs": [],
   "source": []
  },
  {
   "cell_type": "code",
   "execution_count": null,
   "metadata": {
    "collapsed": true
   },
   "outputs": [],
   "source": []
  }
 ],
 "metadata": {
  "kernelspec": {
   "display_name": "Django Shell-Plus",
   "language": "python",
   "name": "django_extensions"
  },
  "language_info": {
   "codemirror_mode": {
    "name": "ipython",
    "version": 3
   },
   "file_extension": ".py",
   "mimetype": "text/x-python",
   "name": "python",
   "nbconvert_exporter": "python",
   "pygments_lexer": "ipython3",
   "version": "3.4.1"
  }
 },
 "nbformat": 4,
 "nbformat_minor": 0
}
