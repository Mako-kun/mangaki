{
 "cells": [
  {
   "cell_type": "code",
   "execution_count": 4,
   "metadata": {
    "collapsed": false
   },
   "outputs": [],
   "source": [
    "programmation = ['ARRIETTY, LE PETIT MONDE DES CHAPARDEURS',\n",
    " 'LA COLLINE AUX COQUELICOTS',\n",
    " 'LES CONTES DE TERREMER',\n",
    " 'LE CHÂTEAU AMBULANT',\n",
    " 'LE VENT SE LEVE',\n",
    " 'LE VOYAGE DE CHIHIRO',\n",
    " 'PONYO SUR LA FALAISE',\n",
    " 'PORCO ROSSO',\n",
    " 'PRINCESSE MONONOKE',\n",
    " 'LE ROYAUME DES CHATS',\n",
    " 'MES VOISINS LES YAMADA',\n",
    " 'MON VOISIN TOTORO']"
   ]
  },
  {
   "cell_type": "code",
   "execution_count": 9,
   "metadata": {
    "collapsed": false
   },
   "outputs": [],
   "source": [
    "keywords = {'ARRIETTY, LE PETIT MONDE DES CHAPARDEURS': 'arrietty',\n",
    " 'LA COLLINE AUX COQUELICOTS': 'coquelicot',\n",
    " 'LE CHÂTEAU AMBULANT': 'château ambulant',\n",
    " 'LE ROYAUME DES CHATS': 'royaume des chats',\n",
    " 'LE VENT SE LEVE': 'vent se lève',\n",
    " 'LE VOYAGE DE CHIHIRO': 'chihiro',\n",
    " 'LES CONTES DE TERREMER': 'terremer',\n",
    " 'MES VOISINS LES YAMADA': 'voisins les yamada',\n",
    " 'MON VOISIN TOTORO': 'totoro',\n",
    " 'PONYO SUR LA FALAISE': 'ponyo',\n",
    " 'PORCO ROSSO': 'porco rosso',\n",
    " 'PRINCESSE MONONOKE': 'mononoké'}"
   ]
  },
  {
   "cell_type": "code",
   "execution_count": null,
   "metadata": {
    "collapsed": false
   },
   "outputs": [
    {
     "name": "stdout",
     "output_type": "stream",
     "text": [
      "ARRIETTY, LE PETIT MONDE DES CHAPARDEURS\n",
      "========================================\n",
      "[2591] Arrietty, le petit monde des chapardeurs http://mangaki.fr/anime/2591\n",
      "\n",
      "LA COLLINE AUX COQUELICOTS\n",
      "==========================\n",
      "[8153] La Colline aux coquelicots http://mangaki.fr/anime/8153\n",
      "\n",
      "LES CONTES DE TERREMER\n",
      "======================\n",
      "[2461] Contes de Terremer http://mangaki.fr/anime/2461\n",
      "\n",
      "LE CHÂTEAU AMBULANT\n",
      "===================\n",
      "[53] Le Château ambulant http://mangaki.fr/anime/53\n",
      "\n",
      "LE VENT SE LEVE\n",
      "===============\n",
      "[958] Le Vent se lève http://mangaki.fr/anime/958\n",
      "\n",
      "LE VOYAGE DE CHIHIRO\n",
      "====================\n",
      "[30] Le Voyage de Chihiro http://mangaki.fr/anime/30\n",
      "\n",
      "PONYO SUR LA FALAISE\n",
      "====================\n",
      "[1563] Ponyo sur la falaise http://mangaki.fr/anime/1563\n",
      "\n",
      "PORCO ROSSO\n",
      "===========\n",
      "[410] Porco Rosso http://mangaki.fr/anime/410\n",
      "\n",
      "PRINCESSE MONONOKE\n",
      "==================\n",
      "[60] Princesse Mononoké http://mangaki.fr/anime/60\n",
      "\n",
      "LE ROYAUME DES CHATS\n",
      "====================\n",
      "[3315] Le Royaume des chats http://mangaki.fr/anime/3315\n",
      "\n",
      "MES VOISINS LES YAMADA\n",
      "======================\n",
      "[3177] Mes voisins les Yamada http://mangaki.fr/anime/3177\n",
      "\n"
     ]
    }
   ],
   "source": [
    "no_ghibli = [1252, 8175, 8177, 13511]\n",
    "for film in programmation:\n",
    "    keyword = keywords[film] if film in keywords else film.lower()\n",
    "    while keyword:\n",
    "        bundle = Anime.objects.filter(title__icontains=keyword)\n",
    "        if not bundle.count():\n",
    "            keyword = input('Didn\\'t found %s. New keyword? ' % keyword)\n",
    "            continue\n",
    "        keywords[film] = keyword\n",
    "        print(film)\n",
    "        print('=' * len(film))\n",
    "        # print('Key:', keyword)\n",
    "        for film in bundle:\n",
    "            if film.id not in no_ghibli:\n",
    "                print(film, 'http://mangaki.fr/anime/%d' % film.id)\n",
    "        print()\n",
    "        break\n",
    "# print(keywords)"
   ]
  },
  {
   "cell_type": "code",
   "execution_count": null,
   "metadata": {
    "collapsed": true
   },
   "outputs": [],
   "source": []
  }
 ],
 "metadata": {
  "kernelspec": {
   "display_name": "Django Shell-Plus",
   "language": "python",
   "name": "django_extensions"
  },
  "language_info": {
   "codemirror_mode": {
    "name": "ipython",
    "version": 3
   },
   "file_extension": ".py",
   "mimetype": "text/x-python",
   "name": "python",
   "nbconvert_exporter": "python",
   "pygments_lexer": "ipython3",
   "version": "3.4.1"
  }
 },
 "nbformat": 4,
 "nbformat_minor": 0
}
